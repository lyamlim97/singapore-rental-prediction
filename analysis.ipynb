{
 "cells": [
  {
   "cell_type": "code",
   "execution_count": 1,
   "metadata": {},
   "outputs": [],
   "source": [
    "# Imports\n",
    "import pandas as pd\n",
    "import re\n"
   ]
  },
  {
   "cell_type": "code",
   "execution_count": 2,
   "metadata": {},
   "outputs": [],
   "source": [
    "df_cpi = pd.read_csv(\"data/cpi.csv\")\n",
    "df_interest = pd.read_csv(\"data/interest.csv\")\n",
    "df_rent_index = pd.read_csv(\"data/rentIndex.csv\")\n",
    "df_vacant = pd.read_csv(\"data/vacant.csv\")\n",
    "df_properties = pd.read_csv(\"data/properties.csv\")\n",
    "df_geo_attributes = pd.read_csv(\"data/geo_attributes.csv\")\n",
    "df_test = pd.read_csv(\"data/test.csv\")\n",
    "df_train = pd.read_csv(\"data/train.csv\")\n"
   ]
  },
  {
   "cell_type": "code",
   "execution_count": 3,
   "metadata": {},
   "outputs": [
    {
     "data": {
      "text/html": [
       "<div>\n",
       "<style scoped>\n",
       "    .dataframe tbody tr th:only-of-type {\n",
       "        vertical-align: middle;\n",
       "    }\n",
       "\n",
       "    .dataframe tbody tr th {\n",
       "        vertical-align: top;\n",
       "    }\n",
       "\n",
       "    .dataframe thead th {\n",
       "        text-align: right;\n",
       "    }\n",
       "</style>\n",
       "<table border=\"1\" class=\"dataframe\">\n",
       "  <thead>\n",
       "    <tr style=\"text-align: right;\">\n",
       "      <th></th>\n",
       "      <th>Data Series</th>\n",
       "      <th>CPI</th>\n",
       "    </tr>\n",
       "  </thead>\n",
       "  <tbody>\n",
       "    <tr>\n",
       "      <th>0</th>\n",
       "      <td>2022 Dec</td>\n",
       "      <td>111.186</td>\n",
       "    </tr>\n",
       "    <tr>\n",
       "      <th>1</th>\n",
       "      <td>2022 Nov</td>\n",
       "      <td>110.959</td>\n",
       "    </tr>\n",
       "    <tr>\n",
       "      <th>2</th>\n",
       "      <td>2022 Oct</td>\n",
       "      <td>109.893</td>\n",
       "    </tr>\n",
       "    <tr>\n",
       "      <th>3</th>\n",
       "      <td>2022 Sep</td>\n",
       "      <td>110.339</td>\n",
       "    </tr>\n",
       "    <tr>\n",
       "      <th>4</th>\n",
       "      <td>2022 Aug</td>\n",
       "      <td>109.863</td>\n",
       "    </tr>\n",
       "  </tbody>\n",
       "</table>\n",
       "</div>"
      ],
      "text/plain": [
       "  Data Series      CPI\n",
       "0   2022 Dec   111.186\n",
       "1   2022 Nov   110.959\n",
       "2   2022 Oct   109.893\n",
       "3   2022 Sep   110.339\n",
       "4   2022 Aug   109.863"
      ]
     },
     "execution_count": 3,
     "metadata": {},
     "output_type": "execute_result"
    }
   ],
   "source": [
    "df_cpi.head()\n"
   ]
  },
  {
   "cell_type": "code",
   "execution_count": 4,
   "metadata": {},
   "outputs": [
    {
     "data": {
      "text/html": [
       "<div>\n",
       "<style scoped>\n",
       "    .dataframe tbody tr th:only-of-type {\n",
       "        vertical-align: middle;\n",
       "    }\n",
       "\n",
       "    .dataframe tbody tr th {\n",
       "        vertical-align: top;\n",
       "    }\n",
       "\n",
       "    .dataframe thead th {\n",
       "        text-align: right;\n",
       "    }\n",
       "</style>\n",
       "<table border=\"1\" class=\"dataframe\">\n",
       "  <thead>\n",
       "    <tr style=\"text-align: right;\">\n",
       "      <th></th>\n",
       "      <th>Data Series</th>\n",
       "      <th>InterestRate</th>\n",
       "    </tr>\n",
       "  </thead>\n",
       "  <tbody>\n",
       "    <tr>\n",
       "      <th>0</th>\n",
       "      <td>2022 Dec</td>\n",
       "      <td>1.48</td>\n",
       "    </tr>\n",
       "    <tr>\n",
       "      <th>1</th>\n",
       "      <td>2022 Nov</td>\n",
       "      <td>1.47</td>\n",
       "    </tr>\n",
       "    <tr>\n",
       "      <th>2</th>\n",
       "      <td>2022 Oct</td>\n",
       "      <td>1.17</td>\n",
       "    </tr>\n",
       "    <tr>\n",
       "      <th>3</th>\n",
       "      <td>2022 Sep</td>\n",
       "      <td>1.03</td>\n",
       "    </tr>\n",
       "    <tr>\n",
       "      <th>4</th>\n",
       "      <td>2022 Aug</td>\n",
       "      <td>0.95</td>\n",
       "    </tr>\n",
       "  </tbody>\n",
       "</table>\n",
       "</div>"
      ],
      "text/plain": [
       "  Data Series  InterestRate\n",
       "0   2022 Dec           1.48\n",
       "1   2022 Nov           1.47\n",
       "2   2022 Oct           1.17\n",
       "3   2022 Sep           1.03\n",
       "4   2022 Aug           0.95"
      ]
     },
     "execution_count": 4,
     "metadata": {},
     "output_type": "execute_result"
    }
   ],
   "source": [
    "df_interest.head()\n"
   ]
  },
  {
   "cell_type": "code",
   "execution_count": 5,
   "metadata": {},
   "outputs": [
    {
     "data": {
      "text/html": [
       "<div>\n",
       "<style scoped>\n",
       "    .dataframe tbody tr th:only-of-type {\n",
       "        vertical-align: middle;\n",
       "    }\n",
       "\n",
       "    .dataframe tbody tr th {\n",
       "        vertical-align: top;\n",
       "    }\n",
       "\n",
       "    .dataframe thead th {\n",
       "        text-align: right;\n",
       "    }\n",
       "</style>\n",
       "<table border=\"1\" class=\"dataframe\">\n",
       "  <thead>\n",
       "    <tr style=\"text-align: right;\">\n",
       "      <th></th>\n",
       "      <th>Data Series</th>\n",
       "      <th>RentIndex</th>\n",
       "    </tr>\n",
       "  </thead>\n",
       "  <tbody>\n",
       "    <tr>\n",
       "      <th>0</th>\n",
       "      <td>2022 4Q</td>\n",
       "      <td>148.1</td>\n",
       "    </tr>\n",
       "    <tr>\n",
       "      <th>1</th>\n",
       "      <td>2022 3Q</td>\n",
       "      <td>137.9</td>\n",
       "    </tr>\n",
       "    <tr>\n",
       "      <th>2</th>\n",
       "      <td>2022 2Q</td>\n",
       "      <td>127.0</td>\n",
       "    </tr>\n",
       "    <tr>\n",
       "      <th>3</th>\n",
       "      <td>2022 1Q</td>\n",
       "      <td>119.0</td>\n",
       "    </tr>\n",
       "    <tr>\n",
       "      <th>4</th>\n",
       "      <td>2021 4Q</td>\n",
       "      <td>114.2</td>\n",
       "    </tr>\n",
       "  </tbody>\n",
       "</table>\n",
       "</div>"
      ],
      "text/plain": [
       "  Data Series  RentIndex\n",
       "0    2022 4Q       148.1\n",
       "1    2022 3Q       137.9\n",
       "2    2022 2Q       127.0\n",
       "3    2022 1Q       119.0\n",
       "4    2021 4Q       114.2"
      ]
     },
     "execution_count": 5,
     "metadata": {},
     "output_type": "execute_result"
    }
   ],
   "source": [
    "df_rent_index.head()\n"
   ]
  },
  {
   "cell_type": "code",
   "execution_count": 6,
   "metadata": {},
   "outputs": [
    {
     "data": {
      "text/html": [
       "<div>\n",
       "<style scoped>\n",
       "    .dataframe tbody tr th:only-of-type {\n",
       "        vertical-align: middle;\n",
       "    }\n",
       "\n",
       "    .dataframe tbody tr th {\n",
       "        vertical-align: top;\n",
       "    }\n",
       "\n",
       "    .dataframe thead th {\n",
       "        text-align: right;\n",
       "    }\n",
       "</style>\n",
       "<table border=\"1\" class=\"dataframe\">\n",
       "  <thead>\n",
       "    <tr style=\"text-align: right;\">\n",
       "      <th></th>\n",
       "      <th>Data Series</th>\n",
       "      <th>Available</th>\n",
       "      <th>Vacant</th>\n",
       "    </tr>\n",
       "  </thead>\n",
       "  <tbody>\n",
       "    <tr>\n",
       "      <th>0</th>\n",
       "      <td>2022 4Q</td>\n",
       "      <td>34084</td>\n",
       "      <td>524</td>\n",
       "    </tr>\n",
       "    <tr>\n",
       "      <th>1</th>\n",
       "      <td>2022 3Q</td>\n",
       "      <td>34084</td>\n",
       "      <td>514</td>\n",
       "    </tr>\n",
       "    <tr>\n",
       "      <th>2</th>\n",
       "      <td>2022 2Q</td>\n",
       "      <td>34084</td>\n",
       "      <td>452</td>\n",
       "    </tr>\n",
       "    <tr>\n",
       "      <th>3</th>\n",
       "      <td>2022 1Q</td>\n",
       "      <td>34084</td>\n",
       "      <td>517</td>\n",
       "    </tr>\n",
       "    <tr>\n",
       "      <th>4</th>\n",
       "      <td>2021 4Q</td>\n",
       "      <td>34084</td>\n",
       "      <td>576</td>\n",
       "    </tr>\n",
       "  </tbody>\n",
       "</table>\n",
       "</div>"
      ],
      "text/plain": [
       "  Data Series  Available  Vacant\n",
       "0    2022 4Q       34084     524\n",
       "1    2022 3Q       34084     514\n",
       "2    2022 2Q       34084     452\n",
       "3    2022 1Q       34084     517\n",
       "4    2021 4Q       34084     576"
      ]
     },
     "execution_count": 6,
     "metadata": {},
     "output_type": "execute_result"
    }
   ],
   "source": [
    "df_vacant.head()\n"
   ]
  },
  {
   "cell_type": "code",
   "execution_count": 7,
   "metadata": {},
   "outputs": [
    {
     "data": {
      "text/html": [
       "<div>\n",
       "<style scoped>\n",
       "    .dataframe tbody tr th:only-of-type {\n",
       "        vertical-align: middle;\n",
       "    }\n",
       "\n",
       "    .dataframe tbody tr th {\n",
       "        vertical-align: top;\n",
       "    }\n",
       "\n",
       "    .dataframe thead th {\n",
       "        text-align: right;\n",
       "    }\n",
       "</style>\n",
       "<table border=\"1\" class=\"dataframe\">\n",
       "  <thead>\n",
       "    <tr style=\"text-align: right;\">\n",
       "      <th></th>\n",
       "      <th>area</th>\n",
       "      <th>floorRange</th>\n",
       "      <th>propertyType</th>\n",
       "      <th>district</th>\n",
       "      <th>typeOfArea</th>\n",
       "      <th>tenure</th>\n",
       "      <th>street</th>\n",
       "      <th>project</th>\n",
       "      <th>marketSegment</th>\n",
       "      <th>property_key</th>\n",
       "    </tr>\n",
       "  </thead>\n",
       "  <tbody>\n",
       "    <tr>\n",
       "      <th>0</th>\n",
       "      <td>226.0</td>\n",
       "      <td>01-05</td>\n",
       "      <td>Condominium</td>\n",
       "      <td>4</td>\n",
       "      <td>Strata</td>\n",
       "      <td>99 yrs lease commencing from 2007</td>\n",
       "      <td>COVE DRIVE</td>\n",
       "      <td>TURQUOISE</td>\n",
       "      <td>CCR</td>\n",
       "      <td>p-7b6c69000</td>\n",
       "    </tr>\n",
       "    <tr>\n",
       "      <th>1</th>\n",
       "      <td>194.0</td>\n",
       "      <td>01-05</td>\n",
       "      <td>Condominium</td>\n",
       "      <td>4</td>\n",
       "      <td>Strata</td>\n",
       "      <td>99 yrs lease commencing from 2007</td>\n",
       "      <td>COVE DRIVE</td>\n",
       "      <td>TURQUOISE</td>\n",
       "      <td>CCR</td>\n",
       "      <td>p-320ed2726</td>\n",
       "    </tr>\n",
       "    <tr>\n",
       "      <th>2</th>\n",
       "      <td>348.0</td>\n",
       "      <td>06-10</td>\n",
       "      <td>Condominium</td>\n",
       "      <td>4</td>\n",
       "      <td>Strata</td>\n",
       "      <td>99 yrs lease commencing from 2007</td>\n",
       "      <td>COVE DRIVE</td>\n",
       "      <td>TURQUOISE</td>\n",
       "      <td>CCR</td>\n",
       "      <td>p-2bc5c4951</td>\n",
       "    </tr>\n",
       "    <tr>\n",
       "      <th>3</th>\n",
       "      <td>223.0</td>\n",
       "      <td>01-05</td>\n",
       "      <td>Condominium</td>\n",
       "      <td>4</td>\n",
       "      <td>Strata</td>\n",
       "      <td>99 yrs lease commencing from 2007</td>\n",
       "      <td>COVE DRIVE</td>\n",
       "      <td>TURQUOISE</td>\n",
       "      <td>CCR</td>\n",
       "      <td>p-f060c5be0</td>\n",
       "    </tr>\n",
       "    <tr>\n",
       "      <th>4</th>\n",
       "      <td>195.0</td>\n",
       "      <td>01-05</td>\n",
       "      <td>Condominium</td>\n",
       "      <td>4</td>\n",
       "      <td>Strata</td>\n",
       "      <td>99 yrs lease commencing from 2007</td>\n",
       "      <td>COVE DRIVE</td>\n",
       "      <td>TURQUOISE</td>\n",
       "      <td>CCR</td>\n",
       "      <td>p-a8d1004a9</td>\n",
       "    </tr>\n",
       "  </tbody>\n",
       "</table>\n",
       "</div>"
      ],
      "text/plain": [
       "    area floorRange propertyType  district typeOfArea   \n",
       "0  226.0      01-05  Condominium         4     Strata  \\\n",
       "1  194.0      01-05  Condominium         4     Strata   \n",
       "2  348.0      06-10  Condominium         4     Strata   \n",
       "3  223.0      01-05  Condominium         4     Strata   \n",
       "4  195.0      01-05  Condominium         4     Strata   \n",
       "\n",
       "                              tenure      street    project marketSegment   \n",
       "0  99 yrs lease commencing from 2007  COVE DRIVE  TURQUOISE           CCR  \\\n",
       "1  99 yrs lease commencing from 2007  COVE DRIVE  TURQUOISE           CCR   \n",
       "2  99 yrs lease commencing from 2007  COVE DRIVE  TURQUOISE           CCR   \n",
       "3  99 yrs lease commencing from 2007  COVE DRIVE  TURQUOISE           CCR   \n",
       "4  99 yrs lease commencing from 2007  COVE DRIVE  TURQUOISE           CCR   \n",
       "\n",
       "  property_key  \n",
       "0  p-7b6c69000  \n",
       "1  p-320ed2726  \n",
       "2  p-2bc5c4951  \n",
       "3  p-f060c5be0  \n",
       "4  p-a8d1004a9  "
      ]
     },
     "execution_count": 7,
     "metadata": {},
     "output_type": "execute_result"
    }
   ],
   "source": [
    "df_properties.head()\n"
   ]
  },
  {
   "cell_type": "code",
   "execution_count": 8,
   "metadata": {},
   "outputs": [
    {
     "data": {
      "text/html": [
       "<div>\n",
       "<style scoped>\n",
       "    .dataframe tbody tr th:only-of-type {\n",
       "        vertical-align: middle;\n",
       "    }\n",
       "\n",
       "    .dataframe tbody tr th {\n",
       "        vertical-align: top;\n",
       "    }\n",
       "\n",
       "    .dataframe thead th {\n",
       "        text-align: right;\n",
       "    }\n",
       "</style>\n",
       "<table border=\"1\" class=\"dataframe\">\n",
       "  <thead>\n",
       "    <tr style=\"text-align: right;\">\n",
       "      <th></th>\n",
       "      <th>street</th>\n",
       "      <th>project</th>\n",
       "      <th>district</th>\n",
       "      <th>lat</th>\n",
       "      <th>lng</th>\n",
       "      <th>num_schools_1km</th>\n",
       "      <th>num_supermarkets_500m</th>\n",
       "      <th>num_mrt_stations_500m</th>\n",
       "    </tr>\n",
       "  </thead>\n",
       "  <tbody>\n",
       "    <tr>\n",
       "      <th>0</th>\n",
       "      <td>LIM AH WOO ROAD</td>\n",
       "      <td>SUITES @ GUILLEMARD</td>\n",
       "      <td>15</td>\n",
       "      <td>1.312520</td>\n",
       "      <td>103.891760</td>\n",
       "      <td>7</td>\n",
       "      <td>2</td>\n",
       "      <td>3</td>\n",
       "    </tr>\n",
       "    <tr>\n",
       "      <th>1</th>\n",
       "      <td>HOLLAND ROAD</td>\n",
       "      <td>LOFT@HOLLAND</td>\n",
       "      <td>10</td>\n",
       "      <td>1.312364</td>\n",
       "      <td>103.797169</td>\n",
       "      <td>0</td>\n",
       "      <td>3</td>\n",
       "      <td>4</td>\n",
       "    </tr>\n",
       "    <tr>\n",
       "      <th>2</th>\n",
       "      <td>SOUTH BUONA VISTA ROAD</td>\n",
       "      <td>VIVA VISTA</td>\n",
       "      <td>5</td>\n",
       "      <td>1.279803</td>\n",
       "      <td>103.785910</td>\n",
       "      <td>0</td>\n",
       "      <td>0</td>\n",
       "      <td>2</td>\n",
       "    </tr>\n",
       "    <tr>\n",
       "      <th>3</th>\n",
       "      <td>UPPER SERANGOON ROAD</td>\n",
       "      <td>PARK RESIDENCES KOVAN</td>\n",
       "      <td>19</td>\n",
       "      <td>1.357934</td>\n",
       "      <td>103.881932</td>\n",
       "      <td>7</td>\n",
       "      <td>2</td>\n",
       "      <td>1</td>\n",
       "    </tr>\n",
       "    <tr>\n",
       "      <th>4</th>\n",
       "      <td>NATHAN ROAD</td>\n",
       "      <td>LOFT @ NATHAN</td>\n",
       "      <td>10</td>\n",
       "      <td>1.294461</td>\n",
       "      <td>103.827621</td>\n",
       "      <td>2</td>\n",
       "      <td>4</td>\n",
       "      <td>4</td>\n",
       "    </tr>\n",
       "  </tbody>\n",
       "</table>\n",
       "</div>"
      ],
      "text/plain": [
       "                   street                project  district       lat   \n",
       "0         LIM AH WOO ROAD    SUITES @ GUILLEMARD        15  1.312520  \\\n",
       "1            HOLLAND ROAD           LOFT@HOLLAND        10  1.312364   \n",
       "2  SOUTH BUONA VISTA ROAD             VIVA VISTA         5  1.279803   \n",
       "3    UPPER SERANGOON ROAD  PARK RESIDENCES KOVAN        19  1.357934   \n",
       "4             NATHAN ROAD          LOFT @ NATHAN        10  1.294461   \n",
       "\n",
       "          lng  num_schools_1km  num_supermarkets_500m  num_mrt_stations_500m  \n",
       "0  103.891760                7                      2                      3  \n",
       "1  103.797169                0                      3                      4  \n",
       "2  103.785910                0                      0                      2  \n",
       "3  103.881932                7                      2                      1  \n",
       "4  103.827621                2                      4                      4  "
      ]
     },
     "execution_count": 8,
     "metadata": {},
     "output_type": "execute_result"
    }
   ],
   "source": [
    "df_geo_attributes.head()\n"
   ]
  },
  {
   "cell_type": "code",
   "execution_count": 9,
   "metadata": {},
   "outputs": [
    {
     "data": {
      "text/html": [
       "<div>\n",
       "<style scoped>\n",
       "    .dataframe tbody tr th:only-of-type {\n",
       "        vertical-align: middle;\n",
       "    }\n",
       "\n",
       "    .dataframe tbody tr th {\n",
       "        vertical-align: top;\n",
       "    }\n",
       "\n",
       "    .dataframe thead th {\n",
       "        text-align: right;\n",
       "    }\n",
       "</style>\n",
       "<table border=\"1\" class=\"dataframe\">\n",
       "  <thead>\n",
       "    <tr style=\"text-align: right;\">\n",
       "      <th></th>\n",
       "      <th>property_key</th>\n",
       "      <th>contractDate</th>\n",
       "      <th>price</th>\n",
       "    </tr>\n",
       "  </thead>\n",
       "  <tbody>\n",
       "    <tr>\n",
       "      <th>0</th>\n",
       "      <td>p-c1ce31019</td>\n",
       "      <td>2018-03-01</td>\n",
       "      <td>1850000.0</td>\n",
       "    </tr>\n",
       "    <tr>\n",
       "      <th>1</th>\n",
       "      <td>p-a7fd7deb5</td>\n",
       "      <td>2018-03-01</td>\n",
       "      <td>1030000.0</td>\n",
       "    </tr>\n",
       "    <tr>\n",
       "      <th>2</th>\n",
       "      <td>p-2a981615e</td>\n",
       "      <td>2018-03-01</td>\n",
       "      <td>4300000.0</td>\n",
       "    </tr>\n",
       "    <tr>\n",
       "      <th>3</th>\n",
       "      <td>p-2bb570b5d</td>\n",
       "      <td>2018-03-01</td>\n",
       "      <td>1400888.0</td>\n",
       "    </tr>\n",
       "    <tr>\n",
       "      <th>4</th>\n",
       "      <td>p-4ccd6e1db</td>\n",
       "      <td>2018-03-01</td>\n",
       "      <td>725000.0</td>\n",
       "    </tr>\n",
       "  </tbody>\n",
       "</table>\n",
       "</div>"
      ],
      "text/plain": [
       "  property_key contractDate      price\n",
       "0  p-c1ce31019   2018-03-01  1850000.0\n",
       "1  p-a7fd7deb5   2018-03-01  1030000.0\n",
       "2  p-2a981615e   2018-03-01  4300000.0\n",
       "3  p-2bb570b5d   2018-03-01  1400888.0\n",
       "4  p-4ccd6e1db   2018-03-01   725000.0"
      ]
     },
     "execution_count": 9,
     "metadata": {},
     "output_type": "execute_result"
    }
   ],
   "source": [
    "df_train.head()\n"
   ]
  },
  {
   "attachments": {},
   "cell_type": "markdown",
   "metadata": {},
   "source": [
    "## Process macro and micro features\n"
   ]
  },
  {
   "attachments": {},
   "cell_type": "markdown",
   "metadata": {},
   "source": [
    "### Macro"
   ]
  },
  {
   "attachments": {},
   "cell_type": "markdown",
   "metadata": {},
   "source": [
    "Make all monthly to join on date"
   ]
  },
  {
   "cell_type": "code",
   "execution_count": 10,
   "metadata": {},
   "outputs": [],
   "source": [
    "df_cpi[\"date\"] = pd.to_datetime(df_cpi[\"Data Series\"], format=\"%Y %b \").dt.to_period(\"M\")\n"
   ]
  },
  {
   "cell_type": "code",
   "execution_count": 11,
   "metadata": {},
   "outputs": [],
   "source": [
    "df_interest[\"date\"] = pd.to_datetime(df_interest[\"Data Series\"], format=\"%Y %b \").dt.to_period(\"M\")\n"
   ]
  },
  {
   "cell_type": "code",
   "execution_count": 12,
   "metadata": {},
   "outputs": [
    {
     "name": "stderr",
     "output_type": "stream",
     "text": [
      "C:\\Users\\Dante\\AppData\\Local\\Temp\\ipykernel_8576\\2552912560.py:1: UserWarning: Could not infer format, so each element will be parsed individually, falling back to `dateutil`. To ensure parsing is consistent and as-expected, please specify a format.\n",
      "  df_rent_index['date'] = pd.to_datetime(df_rent_index['Data Series'].str.replace(r\"(\\d+) (\\d)Q \", r\"\\1-Q\\2\", regex=True)).dt.to_period('M')\n"
     ]
    }
   ],
   "source": [
    "df_rent_index[\"date\"] = pd.to_datetime(\n",
    "    df_rent_index[\"Data Series\"].str.replace(r\"(\\d+) (\\d)Q \", r\"\\1-Q\\2\", regex=True)\n",
    ").dt.to_period(\"M\")\n",
    "df_rent_index = (\n",
    "    df_rent_index.set_index(\"date\").resample(\"M\", convention=\"end\").interpolate(\"linear\")\n",
    ")\n",
    "df_rent_index = df_rent_index.reset_index()\n"
   ]
  },
  {
   "cell_type": "code",
   "execution_count": 13,
   "metadata": {},
   "outputs": [
    {
     "data": {
      "text/html": [
       "<div>\n",
       "<style scoped>\n",
       "    .dataframe tbody tr th:only-of-type {\n",
       "        vertical-align: middle;\n",
       "    }\n",
       "\n",
       "    .dataframe tbody tr th {\n",
       "        vertical-align: top;\n",
       "    }\n",
       "\n",
       "    .dataframe thead th {\n",
       "        text-align: right;\n",
       "    }\n",
       "</style>\n",
       "<table border=\"1\" class=\"dataframe\">\n",
       "  <thead>\n",
       "    <tr style=\"text-align: right;\">\n",
       "      <th></th>\n",
       "      <th>date</th>\n",
       "      <th>Data Series</th>\n",
       "      <th>RentIndex</th>\n",
       "    </tr>\n",
       "  </thead>\n",
       "  <tbody>\n",
       "    <tr>\n",
       "      <th>0</th>\n",
       "      <td>2018-01</td>\n",
       "      <td>2018 1Q</td>\n",
       "      <td>102.800000</td>\n",
       "    </tr>\n",
       "    <tr>\n",
       "      <th>1</th>\n",
       "      <td>2018-02</td>\n",
       "      <td>NaN</td>\n",
       "      <td>103.133333</td>\n",
       "    </tr>\n",
       "    <tr>\n",
       "      <th>2</th>\n",
       "      <td>2018-03</td>\n",
       "      <td>NaN</td>\n",
       "      <td>103.466667</td>\n",
       "    </tr>\n",
       "    <tr>\n",
       "      <th>3</th>\n",
       "      <td>2018-04</td>\n",
       "      <td>2018 2Q</td>\n",
       "      <td>103.800000</td>\n",
       "    </tr>\n",
       "    <tr>\n",
       "      <th>4</th>\n",
       "      <td>2018-05</td>\n",
       "      <td>NaN</td>\n",
       "      <td>103.900000</td>\n",
       "    </tr>\n",
       "  </tbody>\n",
       "</table>\n",
       "</div>"
      ],
      "text/plain": [
       "      date Data Series   RentIndex\n",
       "0  2018-01    2018 1Q   102.800000\n",
       "1  2018-02         NaN  103.133333\n",
       "2  2018-03         NaN  103.466667\n",
       "3  2018-04    2018 2Q   103.800000\n",
       "4  2018-05         NaN  103.900000"
      ]
     },
     "execution_count": 13,
     "metadata": {},
     "output_type": "execute_result"
    }
   ],
   "source": [
    "df_rent_index.head()\n"
   ]
  },
  {
   "cell_type": "code",
   "execution_count": 14,
   "metadata": {},
   "outputs": [
    {
     "name": "stderr",
     "output_type": "stream",
     "text": [
      "C:\\Users\\Dante\\AppData\\Local\\Temp\\ipykernel_8576\\1142357248.py:1: UserWarning: Could not infer format, so each element will be parsed individually, falling back to `dateutil`. To ensure parsing is consistent and as-expected, please specify a format.\n",
      "  df_vacant['date'] = pd.to_datetime(df_vacant['Data Series'].str.replace(r\"(\\d+) (\\d)Q \", r\"\\1-Q\\2\", regex=True)).dt.to_period('M')\n"
     ]
    }
   ],
   "source": [
    "df_vacant[\"date\"] = pd.to_datetime(\n",
    "    df_vacant[\"Data Series\"].str.replace(r\"(\\d+) (\\d)Q \", r\"\\1-Q\\2\", regex=True)\n",
    ").dt.to_period(\"M\")\n",
    "df_vacant = df_vacant.set_index(\"date\").resample(\"M\", convention=\"end\").interpolate(\"linear\")\n",
    "df_vacant = df_vacant.reset_index()\n"
   ]
  },
  {
   "cell_type": "code",
   "execution_count": 15,
   "metadata": {},
   "outputs": [
    {
     "data": {
      "text/html": [
       "<div>\n",
       "<style scoped>\n",
       "    .dataframe tbody tr th:only-of-type {\n",
       "        vertical-align: middle;\n",
       "    }\n",
       "\n",
       "    .dataframe tbody tr th {\n",
       "        vertical-align: top;\n",
       "    }\n",
       "\n",
       "    .dataframe thead th {\n",
       "        text-align: right;\n",
       "    }\n",
       "</style>\n",
       "<table border=\"1\" class=\"dataframe\">\n",
       "  <thead>\n",
       "    <tr style=\"text-align: right;\">\n",
       "      <th></th>\n",
       "      <th>date</th>\n",
       "      <th>Data Series</th>\n",
       "      <th>Available</th>\n",
       "      <th>Vacant</th>\n",
       "    </tr>\n",
       "  </thead>\n",
       "  <tbody>\n",
       "    <tr>\n",
       "      <th>0</th>\n",
       "      <td>2018-01</td>\n",
       "      <td>2018 1Q</td>\n",
       "      <td>30153.0</td>\n",
       "      <td>3950.000000</td>\n",
       "    </tr>\n",
       "    <tr>\n",
       "      <th>1</th>\n",
       "      <td>2018-02</td>\n",
       "      <td>NaN</td>\n",
       "      <td>30624.0</td>\n",
       "      <td>4135.000000</td>\n",
       "    </tr>\n",
       "    <tr>\n",
       "      <th>2</th>\n",
       "      <td>2018-03</td>\n",
       "      <td>NaN</td>\n",
       "      <td>31095.0</td>\n",
       "      <td>4320.000000</td>\n",
       "    </tr>\n",
       "    <tr>\n",
       "      <th>3</th>\n",
       "      <td>2018-04</td>\n",
       "      <td>2018 2Q</td>\n",
       "      <td>31566.0</td>\n",
       "      <td>4505.000000</td>\n",
       "    </tr>\n",
       "    <tr>\n",
       "      <th>4</th>\n",
       "      <td>2018-05</td>\n",
       "      <td>NaN</td>\n",
       "      <td>31734.0</td>\n",
       "      <td>4048.333333</td>\n",
       "    </tr>\n",
       "  </tbody>\n",
       "</table>\n",
       "</div>"
      ],
      "text/plain": [
       "      date Data Series  Available       Vacant\n",
       "0  2018-01    2018 1Q     30153.0  3950.000000\n",
       "1  2018-02         NaN    30624.0  4135.000000\n",
       "2  2018-03         NaN    31095.0  4320.000000\n",
       "3  2018-04    2018 2Q     31566.0  4505.000000\n",
       "4  2018-05         NaN    31734.0  4048.333333"
      ]
     },
     "execution_count": 15,
     "metadata": {},
     "output_type": "execute_result"
    }
   ],
   "source": [
    "df_vacant.head()\n"
   ]
  },
  {
   "attachments": {},
   "cell_type": "markdown",
   "metadata": {},
   "source": [
    "### Micro"
   ]
  },
  {
   "cell_type": "code",
   "execution_count": 16,
   "metadata": {},
   "outputs": [
    {
     "data": {
      "text/html": [
       "<div>\n",
       "<style scoped>\n",
       "    .dataframe tbody tr th:only-of-type {\n",
       "        vertical-align: middle;\n",
       "    }\n",
       "\n",
       "    .dataframe tbody tr th {\n",
       "        vertical-align: top;\n",
       "    }\n",
       "\n",
       "    .dataframe thead th {\n",
       "        text-align: right;\n",
       "    }\n",
       "</style>\n",
       "<table border=\"1\" class=\"dataframe\">\n",
       "  <thead>\n",
       "    <tr style=\"text-align: right;\">\n",
       "      <th></th>\n",
       "      <th>area</th>\n",
       "      <th>floorRange</th>\n",
       "      <th>propertyType</th>\n",
       "      <th>district</th>\n",
       "      <th>typeOfArea</th>\n",
       "      <th>tenure</th>\n",
       "      <th>street</th>\n",
       "      <th>project</th>\n",
       "      <th>marketSegment</th>\n",
       "      <th>property_key</th>\n",
       "    </tr>\n",
       "  </thead>\n",
       "  <tbody>\n",
       "    <tr>\n",
       "      <th>0</th>\n",
       "      <td>226.0</td>\n",
       "      <td>01-05</td>\n",
       "      <td>Condominium</td>\n",
       "      <td>4</td>\n",
       "      <td>Strata</td>\n",
       "      <td>99 yrs lease commencing from 2007</td>\n",
       "      <td>COVE DRIVE</td>\n",
       "      <td>TURQUOISE</td>\n",
       "      <td>CCR</td>\n",
       "      <td>p-7b6c69000</td>\n",
       "    </tr>\n",
       "    <tr>\n",
       "      <th>1</th>\n",
       "      <td>194.0</td>\n",
       "      <td>01-05</td>\n",
       "      <td>Condominium</td>\n",
       "      <td>4</td>\n",
       "      <td>Strata</td>\n",
       "      <td>99 yrs lease commencing from 2007</td>\n",
       "      <td>COVE DRIVE</td>\n",
       "      <td>TURQUOISE</td>\n",
       "      <td>CCR</td>\n",
       "      <td>p-320ed2726</td>\n",
       "    </tr>\n",
       "    <tr>\n",
       "      <th>2</th>\n",
       "      <td>348.0</td>\n",
       "      <td>06-10</td>\n",
       "      <td>Condominium</td>\n",
       "      <td>4</td>\n",
       "      <td>Strata</td>\n",
       "      <td>99 yrs lease commencing from 2007</td>\n",
       "      <td>COVE DRIVE</td>\n",
       "      <td>TURQUOISE</td>\n",
       "      <td>CCR</td>\n",
       "      <td>p-2bc5c4951</td>\n",
       "    </tr>\n",
       "    <tr>\n",
       "      <th>3</th>\n",
       "      <td>223.0</td>\n",
       "      <td>01-05</td>\n",
       "      <td>Condominium</td>\n",
       "      <td>4</td>\n",
       "      <td>Strata</td>\n",
       "      <td>99 yrs lease commencing from 2007</td>\n",
       "      <td>COVE DRIVE</td>\n",
       "      <td>TURQUOISE</td>\n",
       "      <td>CCR</td>\n",
       "      <td>p-f060c5be0</td>\n",
       "    </tr>\n",
       "    <tr>\n",
       "      <th>4</th>\n",
       "      <td>195.0</td>\n",
       "      <td>01-05</td>\n",
       "      <td>Condominium</td>\n",
       "      <td>4</td>\n",
       "      <td>Strata</td>\n",
       "      <td>99 yrs lease commencing from 2007</td>\n",
       "      <td>COVE DRIVE</td>\n",
       "      <td>TURQUOISE</td>\n",
       "      <td>CCR</td>\n",
       "      <td>p-a8d1004a9</td>\n",
       "    </tr>\n",
       "  </tbody>\n",
       "</table>\n",
       "</div>"
      ],
      "text/plain": [
       "    area floorRange propertyType  district typeOfArea   \n",
       "0  226.0      01-05  Condominium         4     Strata  \\\n",
       "1  194.0      01-05  Condominium         4     Strata   \n",
       "2  348.0      06-10  Condominium         4     Strata   \n",
       "3  223.0      01-05  Condominium         4     Strata   \n",
       "4  195.0      01-05  Condominium         4     Strata   \n",
       "\n",
       "                              tenure      street    project marketSegment   \n",
       "0  99 yrs lease commencing from 2007  COVE DRIVE  TURQUOISE           CCR  \\\n",
       "1  99 yrs lease commencing from 2007  COVE DRIVE  TURQUOISE           CCR   \n",
       "2  99 yrs lease commencing from 2007  COVE DRIVE  TURQUOISE           CCR   \n",
       "3  99 yrs lease commencing from 2007  COVE DRIVE  TURQUOISE           CCR   \n",
       "4  99 yrs lease commencing from 2007  COVE DRIVE  TURQUOISE           CCR   \n",
       "\n",
       "  property_key  \n",
       "0  p-7b6c69000  \n",
       "1  p-320ed2726  \n",
       "2  p-2bc5c4951  \n",
       "3  p-f060c5be0  \n",
       "4  p-a8d1004a9  "
      ]
     },
     "execution_count": 16,
     "metadata": {},
     "output_type": "execute_result"
    }
   ],
   "source": [
    "df_properties.head()\n"
   ]
  },
  {
   "cell_type": "code",
   "execution_count": 17,
   "metadata": {},
   "outputs": [
    {
     "name": "stdout",
     "output_type": "stream",
     "text": [
      "<class 'pandas.core.frame.DataFrame'>\n",
      "RangeIndex: 31530 entries, 0 to 31529\n",
      "Data columns (total 10 columns):\n",
      " #   Column         Non-Null Count  Dtype  \n",
      "---  ------         --------------  -----  \n",
      " 0   area           31530 non-null  float64\n",
      " 1   floorRange     31530 non-null  object \n",
      " 2   propertyType   31530 non-null  object \n",
      " 3   district       31530 non-null  int64  \n",
      " 4   typeOfArea     31530 non-null  object \n",
      " 5   tenure         31530 non-null  object \n",
      " 6   street         31530 non-null  object \n",
      " 7   project        31530 non-null  object \n",
      " 8   marketSegment  31530 non-null  object \n",
      " 9   property_key   31530 non-null  object \n",
      "dtypes: float64(1), int64(1), object(8)\n",
      "memory usage: 2.4+ MB\n"
     ]
    }
   ],
   "source": [
    "df_properties.info()\n"
   ]
  },
  {
   "cell_type": "code",
   "execution_count": 18,
   "metadata": {},
   "outputs": [
    {
     "data": {
      "text/plain": [
       "floorRange\n",
       "-         4957\n",
       "01-05    12037\n",
       "06-10     5693\n",
       "11-15     3912\n",
       "16-20     2375\n",
       "21-25     1052\n",
       "26-30      662\n",
       "31-35      411\n",
       "36-40      200\n",
       "41-45       94\n",
       "46-50       45\n",
       "51-55       32\n",
       "56-60       22\n",
       "61-65       18\n",
       "66-70        5\n",
       "71-75        1\n",
       "B1-B5       14\n",
       "Name: property_key, dtype: int64"
      ]
     },
     "execution_count": 18,
     "metadata": {},
     "output_type": "execute_result"
    }
   ],
   "source": [
    "df_properties.groupby(\"floorRange\")[\"property_key\"].agg(\"count\")\n"
   ]
  },
  {
   "cell_type": "code",
   "execution_count": 19,
   "metadata": {},
   "outputs": [
    {
     "data": {
      "text/plain": [
       "propertyType\n",
       "Apartment                 9782\n",
       "Condominium              14881\n",
       "Detached                   438\n",
       "Executive Condominium     1946\n",
       "Semi-detached             1425\n",
       "Strata Detached             88\n",
       "Strata Semi-detached       183\n",
       "Strata Terrace             470\n",
       "Terrace                   2317\n",
       "Name: property_key, dtype: int64"
      ]
     },
     "execution_count": 19,
     "metadata": {},
     "output_type": "execute_result"
    }
   ],
   "source": [
    "df_properties.groupby(\"propertyType\")[\"property_key\"].agg(\"count\")\n"
   ]
  },
  {
   "cell_type": "code",
   "execution_count": 20,
   "metadata": {},
   "outputs": [
    {
     "data": {
      "text/plain": [
       "district\n",
       "1      529\n",
       "2      354\n",
       "3      852\n",
       "4      728\n",
       "5     1228\n",
       "6        8\n",
       "7      299\n",
       "8      544\n",
       "9     1984\n",
       "10    2548\n",
       "11    1394\n",
       "12    1081\n",
       "13     723\n",
       "14    1524\n",
       "15    3123\n",
       "16    1565\n",
       "17     587\n",
       "18    1348\n",
       "19    3627\n",
       "20    1221\n",
       "21    1126\n",
       "22     765\n",
       "23    1675\n",
       "25     427\n",
       "26     425\n",
       "27     866\n",
       "28     979\n",
       "Name: property_key, dtype: int64"
      ]
     },
     "execution_count": 20,
     "metadata": {},
     "output_type": "execute_result"
    }
   ],
   "source": [
    "df_properties.groupby(\"district\")[\"property_key\"].agg(\"count\")\n"
   ]
  },
  {
   "cell_type": "code",
   "execution_count": 21,
   "metadata": {},
   "outputs": [
    {
     "data": {
      "text/plain": [
       "typeOfArea\n",
       "Land       4191\n",
       "Strata    27339\n",
       "Name: property_key, dtype: int64"
      ]
     },
     "execution_count": 21,
     "metadata": {},
     "output_type": "execute_result"
    }
   ],
   "source": [
    "df_properties.groupby(\"typeOfArea\")[\"property_key\"].agg(\"count\")\n"
   ]
  },
  {
   "cell_type": "code",
   "execution_count": 22,
   "metadata": {},
   "outputs": [
    {
     "data": {
      "text/plain": [
       "tenure\n",
       "100 yrs lease commencing from 1986          11\n",
       "102 yrs lease commencing from 1978          20\n",
       "102 yrs lease commencing from 1996          19\n",
       "103 yrs lease commencing from 1974           4\n",
       "103 yrs lease commencing from 1975           6\n",
       "                                         ...  \n",
       "999999 yrs lease commencing from 1958        1\n",
       "999999 yrs lease commencing from 1963        1\n",
       "999999 yrs lease commencing from 1990        1\n",
       "999999 yrs lease commencing from 1993        1\n",
       "Freehold                                 14723\n",
       "Name: property_key, Length: 122, dtype: int64"
      ]
     },
     "execution_count": 22,
     "metadata": {},
     "output_type": "execute_result"
    }
   ],
   "source": [
    "df_properties.groupby(\"tenure\")[\"property_key\"].agg(\"count\")\n"
   ]
  },
  {
   "cell_type": "code",
   "execution_count": 23,
   "metadata": {},
   "outputs": [
    {
     "data": {
      "text/plain": [
       "street\n",
       "ADAM ROAD           21\n",
       "ADIS ROAD           15\n",
       "AH HOOD ROAD        28\n",
       "AH SOO GARDEN        3\n",
       "AIDA STREET        125\n",
       "                  ... \n",
       "YUK TONG AVENUE      5\n",
       "YUNNAN CRESCENT     16\n",
       "ZEHNDER ROAD         4\n",
       "ZION CLOSE          12\n",
       "ZION ROAD           15\n",
       "Name: property_key, Length: 1171, dtype: int64"
      ]
     },
     "execution_count": 23,
     "metadata": {},
     "output_type": "execute_result"
    }
   ],
   "source": [
    "df_properties.groupby(\"street\")[\"property_key\"].agg(\"count\")\n"
   ]
  },
  {
   "cell_type": "code",
   "execution_count": 24,
   "metadata": {},
   "outputs": [
    {
     "data": {
      "text/plain": [
       "project\n",
       "# 1 LOFT               8\n",
       "# 1 SUITES            12\n",
       "1 CANBERRA            56\n",
       "1 KING ALBERT PARK    12\n",
       "1 MOULMEIN RISE        7\n",
       "                      ..\n",
       "YUEN SING MANSION      1\n",
       "YUNNAN GARDENS        16\n",
       "ZEDGE                 20\n",
       "ZENITH                15\n",
       "ZEPHYR PARK            2\n",
       "Name: property_key, Length: 2753, dtype: int64"
      ]
     },
     "execution_count": 24,
     "metadata": {},
     "output_type": "execute_result"
    }
   ],
   "source": [
    "df_properties.groupby(\"project\")[\"property_key\"].agg(\"count\")\n"
   ]
  },
  {
   "cell_type": "code",
   "execution_count": 25,
   "metadata": {},
   "outputs": [
    {
     "data": {
      "text/plain": [
       "marketSegment\n",
       "CCR     7002\n",
       "OCR    15737\n",
       "RCR     8791\n",
       "Name: property_key, dtype: int64"
      ]
     },
     "execution_count": 25,
     "metadata": {},
     "output_type": "execute_result"
    }
   ],
   "source": [
    "df_properties.groupby(\"marketSegment\")[\"property_key\"].agg(\"count\")\n"
   ]
  },
  {
   "attachments": {},
   "cell_type": "markdown",
   "metadata": {},
   "source": [
    "- floorRange: one hot encode\n",
    "- propertyType: one hot encode\n",
    "- district: to join with df_geo_attributes\n",
    "- typeOfArea: one hot encode\n",
    "- tenure: set to Freehold or non-Freehold\n",
    "- street: to join with df_geo_attributes\n",
    "- project: to join with df_geo_attributes\n",
    "- marketSegment: one hot encode"
   ]
  }
 ],
 "metadata": {
  "kernelspec": {
   "display_name": "venv",
   "language": "python",
   "name": "python3"
  },
  "language_info": {
   "codemirror_mode": {
    "name": "ipython",
    "version": 3
   },
   "file_extension": ".py",
   "mimetype": "text/x-python",
   "name": "python",
   "nbconvert_exporter": "python",
   "pygments_lexer": "ipython3",
   "version": "3.9.13"
  },
  "orig_nbformat": 4
 },
 "nbformat": 4,
 "nbformat_minor": 2
}
